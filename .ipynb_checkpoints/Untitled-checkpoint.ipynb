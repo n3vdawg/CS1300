{
 "cells": [
  {
   "cell_type": "markdown",
   "metadata": {},
   "source": [
    "Tyler Nevell\n",
    "101039497\n",
    "\n",
    "\n",
    "# Project Checkpoint\n",
    "\n",
    "* This project is a recreation of the famous Oregon Trail videogame. This recreation will be done in the style of a text based adventure game using python as the code for its engine. The point of this project is to practice tackling a large project and learning how to deal with problems that you couldn't have foreseen in the initial design phases.\n",
    "\n",
    "* This is for anyone who would like to play oregon trail again. But this project is also for me because I want to practice programming as much as possible.\n",
    "\n",
    "* My technical approach is as follows:\n",
    "    * Create a flowchart of all the tasks I need to complete\n",
    "        * Each task should represent a different scenario in the game and the players position in the game\n",
    "    * Create pseudocode for each task on the flowchart\n",
    "    * Create independent functions and classes to define each scenario and potential outcomes\n",
    "    * Put functions together in an engine using python\n",
    "    * Troubleshoot and debug\n",
    "    * Ship it\n",
    "    \n",
    "* Setbacks include:\n",
    "    * Organizational problems. Can't decide which functions should call which other functions\n",
    "    * Program not working the way I intended. Functions are playing out of order. Might require an overhaul.\n",
    "    * Can't decide how to approach creating graphics that show where the player is.\n",
    "\n",
    "* \"Done\" looks like a game that is playable by my friends and girlfriend. If someone can play it through their first playthrough, it's done.\n",
    "\n",
    "* I've learned to organize my thoughts better. Tackling it without things laid out ahead for me was a huge mistake. It's easier now that I know what tasks I need to tackle and when."
   ]
  },
  {
   "cell_type": "code",
   "execution_count": null,
   "metadata": {
    "collapsed": true
   },
   "outputs": [],
   "source": []
  }
 ],
 "metadata": {
  "kernelspec": {
   "display_name": "Python 3",
   "language": "python",
   "name": "python3"
  },
  "language_info": {
   "codemirror_mode": {
    "name": "ipython",
    "version": 3
   },
   "file_extension": ".py",
   "mimetype": "text/x-python",
   "name": "python",
   "nbconvert_exporter": "python",
   "pygments_lexer": "ipython3",
   "version": "3.6.3"
  }
 },
 "nbformat": 4,
 "nbformat_minor": 2
}
